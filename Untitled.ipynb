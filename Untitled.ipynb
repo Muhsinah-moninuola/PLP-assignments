{
 "cells": [
  {
   "cell_type": "code",
   "execution_count": 4,
   "id": "3f790ebb",
   "metadata": {},
   "outputs": [],
   "source": [
    "import pandas as pd\n",
    "\n",
    "StudentData = pd.read_csv ('student-mat.csv', sep=';')"
   ]
  },
  {
   "cell_type": "code",
   "execution_count": 5,
   "id": "2a95ddcd",
   "metadata": {},
   "outputs": [
    {
     "name": "stdout",
     "output_type": "stream",
     "text": [
      "                                              school  sex  age  address  \\\n",
      "0  GP;\"F\";18;\"U\";\"GT3\";\"A\";4;4;\"at_home\";\"teacher...  NaN  NaN      NaN   \n",
      "1  GP;\"F\";17;\"U\";\"GT3\";\"T\";1;1;\"at_home\";\"other\";...  NaN  NaN      NaN   \n",
      "2  GP;\"F\";15;\"U\";\"LE3\";\"T\";1;1;\"at_home\";\"other\";...  NaN  NaN      NaN   \n",
      "3  GP;\"F\";15;\"U\";\"GT3\";\"T\";4;2;\"health\";\"services...  NaN  NaN      NaN   \n",
      "4  GP;\"F\";16;\"U\";\"GT3\";\"T\";3;3;\"other\";\"other\";\"h...  NaN  NaN      NaN   \n",
      "\n",
      "   famsize  Pstatus  Medu  Fedu  Mjob  Fjob  ...  famrel  freetime  goout  \\\n",
      "0      NaN      NaN   NaN   NaN   NaN   NaN  ...     NaN       NaN    NaN   \n",
      "1      NaN      NaN   NaN   NaN   NaN   NaN  ...     NaN       NaN    NaN   \n",
      "2      NaN      NaN   NaN   NaN   NaN   NaN  ...     NaN       NaN    NaN   \n",
      "3      NaN      NaN   NaN   NaN   NaN   NaN  ...     NaN       NaN    NaN   \n",
      "4      NaN      NaN   NaN   NaN   NaN   NaN  ...     NaN       NaN    NaN   \n",
      "\n",
      "   Dalc  Walc  health  absences  G1  G2  G3  \n",
      "0   NaN   NaN     NaN       NaN NaN NaN NaN  \n",
      "1   NaN   NaN     NaN       NaN NaN NaN NaN  \n",
      "2   NaN   NaN     NaN       NaN NaN NaN NaN  \n",
      "3   NaN   NaN     NaN       NaN NaN NaN NaN  \n",
      "4   NaN   NaN     NaN       NaN NaN NaN NaN  \n",
      "\n",
      "[5 rows x 33 columns]\n"
     ]
    }
   ],
   "source": [
    "# display the first few rows of the dataset\n",
    "firstRows = StudentData.head()\n",
    "print (firstRows)"
   ]
  },
  {
   "cell_type": "code",
   "execution_count": 6,
   "id": "cfdcb145",
   "metadata": {},
   "outputs": [
    {
     "name": "stdout",
     "output_type": "stream",
     "text": [
      "C:\\Users\\USER\\Desktop\\Python module\\PLP python assignments\n"
     ]
    }
   ],
   "source": [
    "import os\n",
    "print (os.getcwd()) "
   ]
  },
  {
   "cell_type": "code",
   "execution_count": 7,
   "id": "d293683d",
   "metadata": {},
   "outputs": [
    {
     "name": "stdout",
     "output_type": "stream",
     "text": [
      "school;sex;age;address;famsize;Pstatus;Medu;Fedu;Mjob;Fjob;reason;guardian;traveltime;studytime;failures;schoolsup;famsup;paid;activities;nursery;higher;internet;romantic;famrel;freetime;goout;Dalc;Walc;health;absences;G1;G2;G3\n",
      "\n",
      "\"GP;\"\"F\"\";18;\"\"U\"\";\"\"GT3\"\";\"\"A\"\";4;4;\"\"at_home\"\";\"\"teacher\"\";\"\"course\"\";\"\"mother\"\";2;2;0;\"\"yes\"\";\"\"no\"\";\"\"no\"\";\"\"no\"\";\"\"yes\"\";\"\"yes\"\";\"\"no\"\";\"\"no\"\";4;3;4;1;1;3;6;\"\"5\"\";\"\"6\"\";6\"\n",
      "\n",
      "\"GP;\"\"F\"\";17;\"\"U\"\";\"\"GT3\"\";\"\"T\"\";1;1;\"\"at_home\"\";\"\"other\"\";\"\"course\"\";\"\"father\"\";1;2;0;\"\"no\"\";\"\"yes\"\";\"\"no\"\";\"\"no\"\";\"\"no\"\";\"\"yes\"\";\"\"yes\"\";\"\"no\"\";5;3;3;1;1;3;4;\"\"5\"\";\"\"5\"\";6\"\n",
      "\n",
      "\"GP;\"\"F\"\";15;\"\"U\"\";\"\"LE3\"\";\"\"T\"\";1;1;\"\"at_home\"\";\"\"other\"\";\"\"other\"\";\"\"mother\"\";1;2;3;\"\"yes\"\";\"\"no\"\";\"\"yes\"\";\"\"no\"\";\"\"yes\"\";\"\"yes\"\";\"\"yes\"\";\"\"no\"\";4;3;2;2;3;3;10;\"\"7\"\";\"\"8\"\";10\"\n",
      "\n",
      "\"GP;\"\"F\"\";15;\"\"U\"\";\"\"GT3\"\";\"\"T\"\";4;2;\"\"health\"\";\"\"services\"\";\"\"home\"\";\"\"mother\"\";1;3;0;\"\"no\"\";\"\"yes\"\";\"\"yes\"\";\"\"yes\"\";\"\"yes\"\";\"\"yes\"\";\"\"yes\"\";\"\"yes\"\";3;2;2;1;1;5;2;\"\"15\"\";\"\"14\"\";15\"\n",
      "\n"
     ]
    }
   ],
   "source": [
    "with open(\"student-mat.csv\", \"r\") as f:\n",
    "    for _ in range(5):\n",
    "        print(f.readline())"
   ]
  },
  {
   "cell_type": "code",
   "execution_count": 8,
   "id": "9c444a4a",
   "metadata": {},
   "outputs": [
    {
     "name": "stdout",
     "output_type": "stream",
     "text": [
      "                                              school  sex  age  address  \\\n",
      "0  GP;\"F\";18;\"U\";\"GT3\";\"A\";4;4;\"at_home\";\"teacher...  NaN  NaN      NaN   \n",
      "1  GP;\"F\";17;\"U\";\"GT3\";\"T\";1;1;\"at_home\";\"other\";...  NaN  NaN      NaN   \n",
      "2  GP;\"F\";15;\"U\";\"LE3\";\"T\";1;1;\"at_home\";\"other\";...  NaN  NaN      NaN   \n",
      "3  GP;\"F\";15;\"U\";\"GT3\";\"T\";4;2;\"health\";\"services...  NaN  NaN      NaN   \n",
      "4  GP;\"F\";16;\"U\";\"GT3\";\"T\";3;3;\"other\";\"other\";\"h...  NaN  NaN      NaN   \n",
      "\n",
      "   famsize  Pstatus  Medu  Fedu  Mjob  Fjob  ...  famrel  freetime  goout  \\\n",
      "0      NaN      NaN   NaN   NaN   NaN   NaN  ...     NaN       NaN    NaN   \n",
      "1      NaN      NaN   NaN   NaN   NaN   NaN  ...     NaN       NaN    NaN   \n",
      "2      NaN      NaN   NaN   NaN   NaN   NaN  ...     NaN       NaN    NaN   \n",
      "3      NaN      NaN   NaN   NaN   NaN   NaN  ...     NaN       NaN    NaN   \n",
      "4      NaN      NaN   NaN   NaN   NaN   NaN  ...     NaN       NaN    NaN   \n",
      "\n",
      "   Dalc  Walc  health  absences  G1  G2  G3  \n",
      "0   NaN   NaN     NaN       NaN NaN NaN NaN  \n",
      "1   NaN   NaN     NaN       NaN NaN NaN NaN  \n",
      "2   NaN   NaN     NaN       NaN NaN NaN NaN  \n",
      "3   NaN   NaN     NaN       NaN NaN NaN NaN  \n",
      "4   NaN   NaN     NaN       NaN NaN NaN NaN  \n",
      "\n",
      "[5 rows x 33 columns]\n"
     ]
    }
   ],
   "source": [
    "import pandas as pd\n",
    "\n",
    "StudentData = pd.read_csv(\"student-mat.csv\", sep=\";\", quotechar='\"')\n",
    "print(StudentData.head())"
   ]
  },
  {
   "cell_type": "code",
   "execution_count": null,
   "id": "3aada8f8",
   "metadata": {},
   "outputs": [],
   "source": []
  }
 ],
 "metadata": {
  "kernelspec": {
   "display_name": "Python 3 (ipykernel)",
   "language": "python",
   "name": "python3"
  },
  "language_info": {
   "codemirror_mode": {
    "name": "ipython",
    "version": 3
   },
   "file_extension": ".py",
   "mimetype": "text/x-python",
   "name": "python",
   "nbconvert_exporter": "python",
   "pygments_lexer": "ipython3",
   "version": "3.9.13"
  }
 },
 "nbformat": 4,
 "nbformat_minor": 5
}
